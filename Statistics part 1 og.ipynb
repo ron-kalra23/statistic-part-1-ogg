{
 "cells": [
  {
   "cell_type": "raw",
   "id": "8552d7c8",
   "metadata": {},
   "source": [
    "1.Types of statistics \n",
    "desciptive and inferential"
   ]
  },
  {
   "cell_type": "raw",
   "id": "60fed29a",
   "metadata": {},
   "source": [
    "2.Anylitics methodology ans how industry use statistics:\n",
    "    1.weather forecasting \n",
    "    2.stock market \n",
    "    3.Giving insurance \n",
    "    4.Drug effectiveness before giving it to public\n",
    "    4.Diseased survival probability\n",
    "    5.Election winning and exit poll prediction \n",
    "    6.Loan approval and Fraud detection \n",
    "    7.Netflix/amazon prediction\n",
    "    8.New change effectiveness "
   ]
  },
  {
   "cell_type": "raw",
   "id": "8c8c957c",
   "metadata": {},
   "source": [
    "3.population and sampling "
   ]
  },
  {
   "cell_type": "raw",
   "id": "a536c482",
   "metadata": {},
   "source": [
    "4.Parameter and Statistics(mean ,median,mode)"
   ]
  },
  {
   "cell_type": "code",
   "execution_count": 2,
   "id": "11ff0909",
   "metadata": {},
   "outputs": [
    {
     "name": "stdout",
     "output_type": "stream",
     "text": [
      "45.45454545454545\n"
     ]
    }
   ],
   "source": [
    "#mean (using stat)\n",
    "import statistics as st\n",
    "x = [10,20,30,40,50,40,30,70,40,80,90]\n",
    "print(st.mean(x))\n",
    "\n",
    "#using pandas \n",
    "#import pandas as pd\n",
    "#x_ =pd.DataFrame(x)\n",
    "#print(x_.mean())"
   ]
  },
  {
   "cell_type": "code",
   "execution_count": 4,
   "id": "c2d25663",
   "metadata": {},
   "outputs": [
    {
     "name": "stdout",
     "output_type": "stream",
     "text": [
      "40\n"
     ]
    }
   ],
   "source": [
    "#median  #median is the avg of two number is the middle , or one number left in the middle \n",
    "print(st.median(x)) #central point is basically median"
   ]
  },
  {
   "cell_type": "code",
   "execution_count": 5,
   "id": "156a866b",
   "metadata": {},
   "outputs": [
    {
     "name": "stdout",
     "output_type": "stream",
     "text": [
      "40\n"
     ]
    }
   ],
   "source": [
    "#mode  #mode is basically the number which occurs more time \n",
    "print(st.mode(x))"
   ]
  },
  {
   "cell_type": "raw",
   "id": "0ef6f817",
   "metadata": {},
   "source": [
    "5.use of variable : Dependent and independent variable \n",
    "6.Types of variable: continuous and categorical variable "
   ]
  },
  {
   "cell_type": "markdown",
   "id": "e7d78817",
   "metadata": {},
   "source": [
    "![](ss2.jpg)"
   ]
  },
  {
   "cell_type": "raw",
   "id": "e3abf411",
   "metadata": {},
   "source": [
    "Descriptive statistics:\n",
    "    1.Measure of Central Tendency(mean,median,mode)\n",
    "    2.Measure of dispersion(spread)(variance and standard deviation)\n",
    "    measure of dispersion"
   ]
  },
  {
   "cell_type": "markdown",
   "id": "fb5c0ef8",
   "metadata": {},
   "source": [
    "![](sc1.jpg)"
   ]
  },
  {
   "cell_type": "code",
   "execution_count": 6,
   "id": "85130075",
   "metadata": {},
   "outputs": [],
   "source": [
    "# x = data , mu = mean , N= occurance "
   ]
  },
  {
   "cell_type": "code",
   "execution_count": 7,
   "id": "a1195895",
   "metadata": {},
   "outputs": [
    {
     "name": "stdout",
     "output_type": "stream",
     "text": [
      "36.666666666666664\n"
     ]
    }
   ],
   "source": [
    "import numpy as np \n",
    "x=[20,34,56]\n",
    "avg = np.mean(x)\n",
    "print(avg)"
   ]
  },
  {
   "cell_type": "code",
   "execution_count": 8,
   "id": "fa94adee",
   "metadata": {},
   "outputs": [
    {
     "data": {
      "text/plain": [
       "409.4814814814814"
      ]
     },
     "execution_count": 8,
     "metadata": {},
     "output_type": "execute_result"
    }
   ],
   "source": [
    "# sample calculation\n",
    "np.sum(np.square(20-avg) + np.square(34-avg) + np.square(56-avg)/3)"
   ]
  },
  {
   "cell_type": "code",
   "execution_count": 9,
   "id": "0f6ee0b2",
   "metadata": {},
   "outputs": [
    {
     "name": "stdout",
     "output_type": "stream",
     "text": [
      "variance- 219.55555555555557\n",
      "std.dv- 14.817407180595247\n"
     ]
    }
   ],
   "source": [
    "import numpy as np\n",
    "#variance = means of stadard deviation \n",
    "print(\"variance-\" ,np.var(x) )\n",
    "#std = sqrt of variance \n",
    "print('std.dv-' , np.std(x))\n"
   ]
  },
  {
   "cell_type": "markdown",
   "id": "f58658c8",
   "metadata": {},
   "source": [
    "![](ssq1.jpg)"
   ]
  },
  {
   "cell_type": "code",
   "execution_count": 12,
   "id": "e79e5ec4",
   "metadata": {},
   "outputs": [
    {
     "data": {
      "text/html": [
       "<div>\n",
       "<style scoped>\n",
       "    .dataframe tbody tr th:only-of-type {\n",
       "        vertical-align: middle;\n",
       "    }\n",
       "\n",
       "    .dataframe tbody tr th {\n",
       "        vertical-align: top;\n",
       "    }\n",
       "\n",
       "    .dataframe thead th {\n",
       "        text-align: right;\n",
       "    }\n",
       "</style>\n",
       "<table border=\"1\" class=\"dataframe\">\n",
       "  <thead>\n",
       "    <tr style=\"text-align: right;\">\n",
       "      <th></th>\n",
       "      <th>0</th>\n",
       "    </tr>\n",
       "  </thead>\n",
       "  <tbody>\n",
       "    <tr>\n",
       "      <th>count</th>\n",
       "      <td>8.000000</td>\n",
       "    </tr>\n",
       "    <tr>\n",
       "      <th>mean</th>\n",
       "      <td>45.000000</td>\n",
       "    </tr>\n",
       "    <tr>\n",
       "      <th>std</th>\n",
       "      <td>24.494897</td>\n",
       "    </tr>\n",
       "    <tr>\n",
       "      <th>min</th>\n",
       "      <td>10.000000</td>\n",
       "    </tr>\n",
       "    <tr>\n",
       "      <th>25%</th>\n",
       "      <td>27.500000</td>\n",
       "    </tr>\n",
       "    <tr>\n",
       "      <th>50%</th>\n",
       "      <td>45.000000</td>\n",
       "    </tr>\n",
       "    <tr>\n",
       "      <th>75%</th>\n",
       "      <td>62.500000</td>\n",
       "    </tr>\n",
       "    <tr>\n",
       "      <th>max</th>\n",
       "      <td>80.000000</td>\n",
       "    </tr>\n",
       "  </tbody>\n",
       "</table>\n",
       "</div>"
      ],
      "text/plain": [
       "               0\n",
       "count   8.000000\n",
       "mean   45.000000\n",
       "std    24.494897\n",
       "min    10.000000\n",
       "25%    27.500000\n",
       "50%    45.000000\n",
       "75%    62.500000\n",
       "max    80.000000"
      ]
     },
     "execution_count": 12,
     "metadata": {},
     "output_type": "execute_result"
    }
   ],
   "source": [
    "import pandas as pd\n",
    "#Quantiles\n",
    "y = [10,20,30,40,50,60,70,80]\n",
    "y_ = pd.DataFrame(y)\n",
    "y_.describe()"
   ]
  },
  {
   "cell_type": "code",
   "execution_count": 14,
   "id": "bd288441",
   "metadata": {},
   "outputs": [],
   "source": [
    "# Inter Quantiles = Q3-Q1"
   ]
  },
  {
   "cell_type": "code",
   "execution_count": 15,
   "id": "6a6ff89e",
   "metadata": {},
   "outputs": [],
   "source": [
    "#Quantiles range = Max - Min"
   ]
  },
  {
   "cell_type": "code",
   "execution_count": 16,
   "id": "4e758f38",
   "metadata": {},
   "outputs": [],
   "source": [
    "#IQrange"
   ]
  },
  {
   "cell_type": "markdown",
   "id": "b8d60463",
   "metadata": {},
   "source": [
    "# Inferential statistics\n",
    "Sampling DAta and infer the result to describe entire population "
   ]
  },
  {
   "cell_type": "markdown",
   "id": "644aad2a",
   "metadata": {},
   "source": [
    "# central limit theorm \n",
    "normal distribution - Distribution is always normal irrespective of sampling size.\n",
    "\n",
    "Non normal distribution - If sample size is adequate(appr>30 sample) .distribution starts looking normal  "
   ]
  },
  {
   "cell_type": "markdown",
   "id": "2a9a6af4",
   "metadata": {},
   "source": [
    "![](sim.jpg)"
   ]
  },
  {
   "cell_type": "markdown",
   "id": "be096a13",
   "metadata": {},
   "source": [
    "# Types of distribution \n",
    "There are various types of distribution in statistics.But most commonly used distribution is normal distribution and z distribution in our course"
   ]
  },
  {
   "cell_type": "raw",
   "id": "87ab46e0",
   "metadata": {},
   "source": [
    "Normal distribution \n",
    "A normal distribution is the proper term for a possiblity bell curve .In normal distribution the mean is zero and the standard deviation is "
   ]
  },
  {
   "cell_type": "markdown",
   "id": "0a4fe0be",
   "metadata": {},
   "source": [
    "![](scr.jpg)"
   ]
  },
  {
   "cell_type": "markdown",
   "id": "edc46bfd",
   "metadata": {},
   "source": [
    "![](bb.jpg)"
   ]
  },
  {
   "cell_type": "markdown",
   "id": "08bce6ae",
   "metadata": {},
   "source": [
    "![](ll.jpg)"
   ]
  },
  {
   "cell_type": "markdown",
   "id": "5d5ffa78",
   "metadata": {},
   "source": [
    "![](bd.jpg)"
   ]
  },
  {
   "cell_type": "markdown",
   "id": "82660e6e",
   "metadata": {},
   "source": [
    "![](ex.jpg)"
   ]
  },
  {
   "cell_type": "raw",
   "id": "d82e2760",
   "metadata": {},
   "source": [
    "Example -\n",
    "Deck of cards- probability of getting any perticular shape and number (1/52) "
   ]
  },
  {
   "cell_type": "markdown",
   "id": "a10d085b",
   "metadata": {},
   "source": [
    "# PDF , CDF"
   ]
  },
  {
   "cell_type": "markdown",
   "id": "d1af2364",
   "metadata": {},
   "source": [
    "1.pdf = probability density function \n",
    "\n",
    "2.cdf = cumulative density function "
   ]
  },
  {
   "cell_type": "markdown",
   "id": "03d08f35",
   "metadata": {},
   "source": [
    "![](pbb.jpg)"
   ]
  },
  {
   "cell_type": "code",
   "execution_count": 17,
   "id": "1e1c04e1",
   "metadata": {},
   "outputs": [],
   "source": [
    "#how to find the probability of any event "
   ]
  },
  {
   "cell_type": "markdown",
   "id": "a8f60e84",
   "metadata": {},
   "source": [
    "![](pf.jpg)"
   ]
  },
  {
   "cell_type": "markdown",
   "id": "fd105a35",
   "metadata": {},
   "source": [
    "![](pf2.jpg)"
   ]
  },
  {
   "cell_type": "markdown",
   "id": "413369bd",
   "metadata": {},
   "source": [
    "![](aa.jpg)"
   ]
  },
  {
   "cell_type": "markdown",
   "id": "a3915854",
   "metadata": {},
   "source": [
    "![](as.jpg)"
   ]
  },
  {
   "cell_type": "markdown",
   "id": "e9aecd07",
   "metadata": {},
   "source": [
    "# Probability Problem"
   ]
  },
  {
   "cell_type": "raw",
   "id": "36a3642a",
   "metadata": {},
   "source": [
    "Problem1\n",
    "There are thousand students who's marks are captured based on their ability in the test.if the same test is given to a new student.ehat is the probability of getting 50 marks."
   ]
  },
  {
   "cell_type": "code",
   "execution_count": 18,
   "id": "4c339527",
   "metadata": {},
   "outputs": [],
   "source": [
    "from numpy.random import randint as ri\n",
    "import pandas as pd"
   ]
  },
  {
   "cell_type": "code",
   "execution_count": 20,
   "id": "5d0aba5b",
   "metadata": {},
   "outputs": [
    {
     "data": {
      "text/plain": [
       "0    32\n",
       "1    42\n",
       "2    85\n",
       "3    64\n",
       "4    59\n",
       "dtype: int32"
      ]
     },
     "execution_count": 20,
     "metadata": {},
     "output_type": "execute_result"
    }
   ],
   "source": [
    "#randomly generating 100 int b/w 30 to 100\n",
    "marks = ri(30,100,1000)\n",
    "stu_marks = pd.Series(marks)\n",
    "stu_marks.head()\n",
    "\n",
    "\n"
   ]
  },
  {
   "cell_type": "code",
   "execution_count": 21,
   "id": "407caf17",
   "metadata": {},
   "outputs": [],
   "source": [
    "#lets take mean and standard deviation (std).we need these data to find the probability "
   ]
  },
  {
   "cell_type": "code",
   "execution_count": 23,
   "id": "b678fc2c",
   "metadata": {},
   "outputs": [
    {
     "name": "stdout",
     "output_type": "stream",
     "text": [
      "mean marks- 63.838\n",
      "std marks - 20.253937345068923\n"
     ]
    }
   ],
   "source": [
    "#mean \n",
    "marks_mean = stu_marks.mean()\n",
    "print('mean marks-' , marks_mean)\n",
    "#std\n",
    "marks_std = stu_marks.std()\n",
    "print('std marks -' , marks_std)\n"
   ]
  },
  {
   "cell_type": "code",
   "execution_count": 24,
   "id": "d8b85a84",
   "metadata": {},
   "outputs": [],
   "source": [
    "# what is the probability of student scoring upto 50% marks \n",
    "x = 50"
   ]
  },
  {
   "cell_type": "markdown",
   "id": "7e1f117b",
   "metadata": {},
   "source": [
    "probability always between 0 to 1 starts from 0 "
   ]
  },
  {
   "cell_type": "code",
   "execution_count": 25,
   "id": "1f6b35bb",
   "metadata": {},
   "outputs": [
    {
     "name": "stdout",
     "output_type": "stream",
     "text": [
      "0.24723228177084017\n"
     ]
    }
   ],
   "source": [
    "import scipy.stats as st\n",
    "# whwn (x) data is given then ,use cdf function to find the probability of scoring marks upto 50.(x)\n",
    "prob = st.norm.cdf(x,loc = marks_mean , scale = marks_std)\n",
    "print(prob)"
   ]
  },
  {
   "cell_type": "markdown",
   "id": "159a7b14",
   "metadata": {},
   "source": [
    "# if u want to find the probability scoring marks greater than 50 , you can minus prob(1-prob)\n"
   ]
  },
  {
   "cell_type": "markdown",
   "id": "9402c71f",
   "metadata": {},
   "source": [
    "#how it works "
   ]
  },
  {
   "cell_type": "markdown",
   "id": "a8f61873",
   "metadata": {},
   "source": [
    "# z distribution statistics "
   ]
  },
  {
   "cell_type": "markdown",
   "id": "30ed77f1",
   "metadata": {},
   "source": [
    "# lets transfrom our normal distribution into z distribution (standard normal distribution) where mean = 0 and std = 1"
   ]
  },
  {
   "cell_type": "markdown",
   "id": "afcd20a4",
   "metadata": {},
   "source": [
    "![](zd.jpg)"
   ]
  },
  {
   "cell_type": "code",
   "execution_count": 26,
   "id": "bb75c899",
   "metadata": {},
   "outputs": [
    {
     "data": {
      "text/plain": [
       "-0.6832251805779895"
      ]
     },
     "execution_count": 26,
     "metadata": {},
     "output_type": "execute_result"
    }
   ],
   "source": [
    "score = (x - marks_mean )/marks_std\n",
    "score"
   ]
  },
  {
   "cell_type": "markdown",
   "id": "3dacc3d6",
   "metadata": {},
   "source": [
    "check the score in z table "
   ]
  },
  {
   "cell_type": "markdown",
   "id": "808226d8",
   "metadata": {},
   "source": [
    "i.e z-table.com"
   ]
  },
  {
   "cell_type": "markdown",
   "id": "6f1c7817",
   "metadata": {},
   "source": []
  },
  {
   "cell_type": "markdown",
   "id": "a1ec2326",
   "metadata": {},
   "source": [
    "![](zt.jpg)"
   ]
  },
  {
   "cell_type": "markdown",
   "id": "9626e50e",
   "metadata": {},
   "source": [
    "![](zt2.jpg)"
   ]
  },
  {
   "cell_type": "markdown",
   "id": "06204f12",
   "metadata": {},
   "source": [
    "# problem 2 "
   ]
  },
  {
   "cell_type": "markdown",
   "id": "d1f4de66",
   "metadata": {},
   "source": [
    "Find the probability o getting marks between 50-60 "
   ]
  },
  {
   "cell_type": "markdown",
   "id": "650c7518",
   "metadata": {},
   "source": [
    "-Rewrite the problem in below form"
   ]
  },
  {
   "cell_type": "markdown",
   "id": "c7526f9e",
   "metadata": {},
   "source": [
    "p(50<z<60)"
   ]
  },
  {
   "cell_type": "markdown",
   "id": "5457784a",
   "metadata": {},
   "source": [
    "p(50-mean)/std < Z < (60-mean)/std )"
   ]
  },
  {
   "cell_type": "code",
   "execution_count": 28,
   "id": "42c7018f",
   "metadata": {},
   "outputs": [
    {
     "data": {
      "text/plain": [
       "-0.6832251805779895"
      ]
     },
     "execution_count": 28,
     "metadata": {},
     "output_type": "execute_result"
    }
   ],
   "source": [
    "#for 50 \n",
    "(50 - marks_mean)/marks_std"
   ]
  },
  {
   "cell_type": "code",
   "execution_count": 29,
   "id": "e33b531a",
   "metadata": {},
   "outputs": [
    {
     "data": {
      "text/plain": [
       "-0.18949401958796966"
      ]
     },
     "execution_count": 29,
     "metadata": {},
     "output_type": "execute_result"
    }
   ],
   "source": [
    "#for 60 \n",
    "(60-marks_mean)/marks_std"
   ]
  },
  {
   "cell_type": "markdown",
   "id": "c3f3a6b7",
   "metadata": {},
   "source": [
    "Now look at z table for both 50 and 60 .Difference is probability "
   ]
  },
  {
   "cell_type": "code",
   "execution_count": null,
   "id": "1dc135ec",
   "metadata": {},
   "outputs": [],
   "source": []
  }
 ],
 "metadata": {
  "kernelspec": {
   "display_name": "Python 3 (ipykernel)",
   "language": "python",
   "name": "python3"
  },
  "language_info": {
   "codemirror_mode": {
    "name": "ipython",
    "version": 3
   },
   "file_extension": ".py",
   "mimetype": "text/x-python",
   "name": "python",
   "nbconvert_exporter": "python",
   "pygments_lexer": "ipython3",
   "version": "3.9.13"
  }
 },
 "nbformat": 4,
 "nbformat_minor": 5
}
